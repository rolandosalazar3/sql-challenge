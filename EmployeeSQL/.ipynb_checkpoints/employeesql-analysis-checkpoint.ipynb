{
 "cells": [
  {
   "cell_type": "code",
   "execution_count": null,
   "metadata": {
    "collapsed": false,
    "jupyter": {
     "outputs_hidden": false
    }
   },
   "outputs": [],
   "source": [
    "-- Create employees table\n",
    "create table employees (\n",
    "\temp_no INT PRIMARY KEY NOT NULL,\n",
    "\tbirth_date DATE NOT NULL,\n",
    "\tfirst_name VARCHAR(35) NOT NULL,\n",
    "\tlast_name VARCHAR(35) NOT NULL,\n",
    "\tgender VARCHAR(1)NOT NULL,\n",
    "\thire_date DATE NOT NULL\n",
    ");\n",
    "\n",
    "-- Create departments table\n",
    "create table departments (\n",
    "\tdept_no VARCHAR(8) primary key NOT NULL,\n",
    "\tdept_name VARCHAR(40) NOT NULL\n",
    ");\n",
    "\n",
    "-- Create titles table\n",
    "create table titles (\n",
    "\temp_no INT NOT NULL,\n",
    "\ttitle VARCHAR(40) NOT NULL,\n",
    "\tfrom_date DATE NOT NULL,\n",
    "\tto_date DATE NOT NULL,\n",
    "    foreign key (emp_no) references employees (emp_no)\n",
    ");\n",
    "\n",
    "-- Create department employee table\n",
    "create table dept_emp (\n",
    "\temp_no INT NOT NULL,\n",
    "\tdept_no VARCHAR(8) NOT NULL,\n",
    "\tfrom_date DATE NOT NULL,\n",
    "\tto_date DATE NOT NULL,\n",
    "    foreign key (emp_no) references employees (emp_no),\n",
    "    foreign key (dept_no) references departments (dept_no)\n",
    ");\n",
    "\n",
    "-- Create salaries table\n",
    "create table salaries (\n",
    "\temp_no INT NOT NULL,\n",
    "\tsalary INT NOT NULL,\n",
    "\tfrom_date DATE NOT NULL,\n",
    "\tto_date DATE NOT NULL,\n",
    "    foreign key (emp_no) references employees (emp_no)\n",
    ");\n",
    "\n",
    "-- Create Department manager table\n",
    "create table dept_manager (\n",
    "\tdept_no VARCHAR(8) NOT NULL,\n",
    "\temp_no INT NOT NULL,\n",
    "\tfrom_date DATE NOT NULL,\n",
    "\tto_date DATE NOT NULL,\n",
    "    foreign key (emp_no) references employees (emp_no),\n",
    "    foreign key (dept_no) references departments (dept_no)\n",
    ");\n",
    "\n",
    "-- Change to_date years that hold year 9999 to current date for dept_manager,\n",
    "-- dept emp, and titles (salaries table does not have 9999 year)\n",
    "update dept_manager\n",
    "set to_date = CURRENT_DATE\n",
    "where extract(year from to_date) = 9999;\n",
    "\n",
    "update dept_emp\n",
    "set to_date = CURRENT_DATE\n",
    "where extract(year from to_date) = 9999;\n",
    "\n",
    "update titles\n",
    "set to_date = CURRENT_DATE\n",
    "where extract(year from to_date) = 9999;"
   ]
  },
  {
   "cell_type": "code",
   "execution_count": null,
   "metadata": {
    "collapsed": false,
    "jupyter": {
     "outputs_hidden": false
    }
   },
   "outputs": [],
   "source": []
  },
  {
   "cell_type": "code",
   "execution_count": null,
   "metadata": {
    "collapsed": false,
    "jupyter": {
     "outputs_hidden": false
    }
   },
   "outputs": [],
   "source": []
  },
  {
   "cell_type": "code",
   "execution_count": null,
   "metadata": {
    "collapsed": false,
    "jupyter": {
     "outputs_hidden": false
    }
   },
   "outputs": [],
   "source": []
  },
  {
   "cell_type": "code",
   "execution_count": null,
   "metadata": {
    "collapsed": false,
    "jupyter": {
     "outputs_hidden": false
    }
   },
   "outputs": [],
   "source": []
  }
 ],
 "metadata": {
  "kernelspec": {
   "display_name": "Python 3 (ipykernel)",
   "language": "python",
   "name": "python3"
  },
  "language_info": {
   "codemirror_mode": {
    "name": "ipython",
    "version": 3
   },
   "file_extension": ".py",
   "mimetype": "text/x-python",
   "name": "python",
   "nbconvert_exporter": "python",
   "pygments_lexer": "ipython3",
   "version": "3.9.12"
  },
  "name": "Ins_Inspector.ipynb",
  "varInspector": {
   "cols": {
    "lenName": 16,
    "lenType": 16,
    "lenVar": 40
   },
   "kernels_config": {
    "python": {
     "delete_cmd_postfix": "",
     "delete_cmd_prefix": "del ",
     "library": "var_list.py",
     "varRefreshCmd": "print(var_dic_list())"
    },
    "r": {
     "delete_cmd_postfix": ") ",
     "delete_cmd_prefix": "rm(",
     "library": "var_list.r",
     "varRefreshCmd": "cat(var_dic_list()) "
    }
   },
   "types_to_exclude": [
    "module",
    "function",
    "builtin_function_or_method",
    "instance",
    "_Feature"
   ],
   "window_display": false
  }
 },
 "nbformat": 4,
 "nbformat_minor": 4
}
